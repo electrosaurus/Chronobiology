{
 "cells": [
  {
   "cell_type": "markdown",
   "id": "51185617",
   "metadata": {},
   "source": [
    "# DBQuery usage demonstration"
   ]
  },
  {
   "cell_type": "code",
   "execution_count": 1,
   "id": "3f9d118b",
   "metadata": {},
   "outputs": [],
   "source": [
    "from chronobiology.chronobiology import DBQuery"
   ]
  },
  {
   "cell_type": "code",
   "execution_count": 2,
   "id": "3c4093ce",
   "metadata": {},
   "outputs": [],
   "source": [
    "# Create a client to access the database.\n",
    "client = DBQuery('my_database', 'admin', 'my_password')"
   ]
  },
  {
   "cell_type": "markdown",
   "id": "8801b2c6",
   "metadata": {},
   "source": [
    "## Getting measurements"
   ]
  },
  {
   "cell_type": "code",
   "execution_count": 3,
   "id": "36917427",
   "metadata": {},
   "outputs": [
    {
     "data": {
      "text/plain": [
       "['series_1', 'series_2', 'series_3']"
      ]
     },
     "execution_count": 3,
     "metadata": {},
     "output_type": "execute_result"
    }
   ],
   "source": [
    "# Get all measurements found in database.\n",
    "client.get_measurements()"
   ]
  },
  {
   "cell_type": "markdown",
   "id": "15aa1581",
   "metadata": {},
   "source": [
    "## Getting tags"
   ]
  },
  {
   "cell_type": "code",
   "execution_count": 4,
   "id": "a9ad6c3c",
   "metadata": {},
   "outputs": [
    {
     "data": {
      "text/plain": [
       "['sensor_id']"
      ]
     },
     "execution_count": 4,
     "metadata": {},
     "output_type": "execute_result"
    }
   ],
   "source": [
    "# Get tags of a measurement.\n",
    "client.get_tags('series_1')"
   ]
  },
  {
   "cell_type": "code",
   "execution_count": 5,
   "id": "b868abbf",
   "metadata": {},
   "outputs": [
    {
     "data": {
      "text/plain": [
       "[]"
      ]
     },
     "execution_count": 5,
     "metadata": {},
     "output_type": "execute_result"
    }
   ],
   "source": [
    "# Try to get tags of a nonexistent measurement.\n",
    "client.get_tags('series_1000')"
   ]
  },
  {
   "cell_type": "markdown",
   "id": "875305f5",
   "metadata": {},
   "source": [
    "## Getting fields"
   ]
  },
  {
   "cell_type": "code",
   "execution_count": 6,
   "id": "9c740660",
   "metadata": {},
   "outputs": [
    {
     "data": {
      "text/plain": [
       "['value']"
      ]
     },
     "execution_count": 6,
     "metadata": {},
     "output_type": "execute_result"
    }
   ],
   "source": [
    "# Get fields of a measurement.\n",
    "client.get_fields('series_1')"
   ]
  },
  {
   "cell_type": "code",
   "execution_count": 7,
   "id": "bd39e9a9",
   "metadata": {},
   "outputs": [
    {
     "data": {
      "text/plain": [
       "(['value'], ['integer'])"
      ]
     },
     "execution_count": 7,
     "metadata": {},
     "output_type": "execute_result"
    }
   ],
   "source": [
    "# Get typed fields of a series.\n",
    "client.get_fields('series_1', return_types=True)"
   ]
  },
  {
   "cell_type": "code",
   "execution_count": 8,
   "id": "6491acbc",
   "metadata": {},
   "outputs": [
    {
     "data": {
      "text/plain": [
       "[]"
      ]
     },
     "execution_count": 8,
     "metadata": {},
     "output_type": "execute_result"
    }
   ],
   "source": [
    "# Try to get fields of a nonexistent series.\n",
    "client.get_fields('series_1000')"
   ]
  },
  {
   "cell_type": "markdown",
   "id": "b695db25",
   "metadata": {},
   "source": [
    "## Getting keys"
   ]
  },
  {
   "cell_type": "code",
   "execution_count": 9,
   "id": "947eeb85",
   "metadata": {},
   "outputs": [
    {
     "data": {
      "text/plain": [
       "['1', '2', '3']"
      ]
     },
     "execution_count": 9,
     "metadata": {},
     "output_type": "execute_result"
    }
   ],
   "source": [
    "# Get keys of a series tag.\n",
    "client.get_keys('series_1', 'sensor_id')"
   ]
  },
  {
   "cell_type": "code",
   "execution_count": 10,
   "id": "5441d007",
   "metadata": {},
   "outputs": [
    {
     "data": {
      "text/plain": [
       "[]"
      ]
     },
     "execution_count": 10,
     "metadata": {},
     "output_type": "execute_result"
    }
   ],
   "source": [
    "# Try to get keys of a nonexistent series.\n",
    "client.get_keys('series_1000', 'sensor_id')"
   ]
  },
  {
   "cell_type": "code",
   "execution_count": 11,
   "id": "348af120",
   "metadata": {},
   "outputs": [
    {
     "data": {
      "text/plain": [
       "[]"
      ]
     },
     "execution_count": 11,
     "metadata": {},
     "output_type": "execute_result"
    }
   ],
   "source": [
    "# Try to get keys of a nonexistent tag.\n",
    "client.get_keys('series_1', 'sensor_name')"
   ]
  },
  {
   "cell_type": "markdown",
   "id": "5e21925f",
   "metadata": {},
   "source": [
    "## Getting data"
   ]
  },
  {
   "cell_type": "code",
   "execution_count": 12,
   "id": "635185ce",
   "metadata": {},
   "outputs": [
    {
     "data": {
      "text/plain": [
       "{ 'time': array(['2019-11-05T00:00:00.000000000',\n",
       "                 '2019-11-05T06:00:00.000000000',\n",
       "                 '2019-11-06T00:00:00.000000000'],\n",
       "                 dtype='datetime64[ns]'),\n",
       "  'sensor': array(['1', '2', '3']),\n",
       "  'value': array([1.0, 1.5, 2.0]) }"
      ]
     },
     "execution_count": 12,
     "metadata": {},
     "output_type": "execute_result"
    }
   ],
   "source": [
    "# Get all data from a series.\n",
    "client.get_data('series_1', '*')"
   ]
  },
  {
   "cell_type": "code",
   "execution_count": 13,
   "id": "1049e563",
   "metadata": {},
   "outputs": [
    {
     "data": {
      "text/plain": [
       "{ 'time': array(['2019-11-05T00:00:00.000000000',\n",
       "                 '2019-11-05T06:00:00.000000000',\n",
       "                 '2019-11-06T00:00:00.000000000'],\n",
       "                 dtype='datetime64[ns]'),\n",
       "  'value': array([1.0, 1.5, 2.0]) }"
      ]
     },
     "execution_count": 13,
     "metadata": {},
     "output_type": "execute_result"
    }
   ],
   "source": [
    "# Get values of a single field of a series.\n",
    "client.get_data('series_1', 'value')"
   ]
  },
  {
   "cell_type": "code",
   "execution_count": 14,
   "id": "f1f06442",
   "metadata": {},
   "outputs": [
    {
     "data": {
      "text/plain": [
       "{ 'time': array(['2019-11-05T00:00:00.000000000',\n",
       "                 '2019-11-05T06:00:00.000000000',\n",
       "                 '2019-11-06T00:00:00.000000000'],\n",
       "                 dtype='datetime64[ns]'),\n",
       "  'sensor': array(['1', '2', '3']),\n",
       "  'value': array([1.0, 1.5, 2.0]) }"
      ]
     },
     "execution_count": 14,
     "metadata": {},
     "output_type": "execute_result"
    }
   ],
   "source": [
    "# Get values of multiple fields/tags of a series.\n",
    "client.get_data('series_1', ['value', 'sensor'])"
   ]
  },
  {
   "cell_type": "code",
   "execution_count": 15,
   "id": "bdcdded8",
   "metadata": {},
   "outputs": [
    {
     "data": {
      "text/plain": [
       "{ 'time': array(['2019-11-05T06:00:00.000000000',\n",
       "                 '2019-11-06T00:00:00.000000000'],\n",
       "                 dtype='datetime64[ns]'),\n",
       "  'sensor': array(['2', '3']),\n",
       "  'value': array([1.5, 2.0]) }"
      ]
     },
     "execution_count": 15,
     "metadata": {},
     "output_type": "execute_result"
    }
   ],
   "source": [
    "# Get data newer than a given timestamp (inclusive).\n",
    "client.get_data('series_1', '*', start='2019-11-05 06:00')"
   ]
  },
  {
   "cell_type": "code",
   "execution_count": 16,
   "id": "2758889e",
   "metadata": {},
   "outputs": [
    {
     "data": {
      "text/plain": [
       "{ 'time': array(['2019-11-05T00:00:00.000000000',\n",
       "                 '2019-11-05T06:00:00.000000000'],\n",
       "                 dtype='datetime64[ns]'),\n",
       "  'sensor': array(['1', '2']),\n",
       "  'value': array([1.0, 1.5]) }"
      ]
     },
     "execution_count": 16,
     "metadata": {},
     "output_type": "execute_result"
    }
   ],
   "source": [
    "# Get data older than a given timestamp (exclusive).\n",
    "client.get_data('series_1', '*', stop='2019-11-06')"
   ]
  },
  {
   "cell_type": "code",
   "execution_count": 17,
   "id": "d4024310",
   "metadata": {},
   "outputs": [
    {
     "data": {
      "text/plain": [
       "{ 'time': array(['2019-11-05T00:00:00.000000000'],\n",
       "                 dtype='datetime64[ns]'),\n",
       "  'sensor': array(['1']),\n",
       "  'value': array([1.0]) }"
      ]
     },
     "execution_count": 17,
     "metadata": {},
     "output_type": "execute_result"
    }
   ],
   "source": [
    "# Get data filtered by a single key value.\n",
    "client.get_data('series_1', '*', keys={'sensor_id': '1'})"
   ]
  },
  {
   "cell_type": "code",
   "execution_count": 18,
   "id": "96c8600a",
   "metadata": {},
   "outputs": [
    {
     "data": {
      "text/plain": [
       "{ 'time': array(['2019-11-05T00:00:00.000000000',\n",
       "                 '2019-11-05T06:00:00.000000000'],\n",
       "                 dtype='datetime64[ns]'),\n",
       "  'sensor': array(['1', '2']),\n",
       "  'value': array([1.0, 1.5]) }"
      ]
     },
     "execution_count": 18,
     "metadata": {},
     "output_type": "execute_result"
    }
   ],
   "source": [
    "# Get data filtered by multiple key values.\n",
    "client.get_data('series_1', '*', keys={'sensor_id': ['1', '2']})"
   ]
  }
 ],
 "metadata": {
  "kernelspec": {
   "display_name": "Python 3 (ipykernel)",
   "language": "python",
   "name": "python3"
  },
  "language_info": {
   "codemirror_mode": {
    "name": "ipython",
    "version": 3
   },
   "file_extension": ".py",
   "mimetype": "text/x-python",
   "name": "python",
   "nbconvert_exporter": "python",
   "pygments_lexer": "ipython3",
   "version": "3.8.10"
  }
 },
 "nbformat": 4,
 "nbformat_minor": 5
}
